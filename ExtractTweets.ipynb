{
  "nbformat": 4,
  "nbformat_minor": 0,
  "metadata": {
    "colab": {
      "name": "ExtractTweets.ipynb",
      "provenance": []
    },
    "kernelspec": {
      "name": "python3",
      "display_name": "Python 3"
    },
    "language_info": {
      "name": "python"
    }
  },
  "cells": [
    {
      "cell_type": "code",
      "source": [
        "import tweepy as tw\n",
        "import csv"
      ],
      "metadata": {
        "id": "BVOQomIXP2FE"
      },
      "execution_count": 1,
      "outputs": []
    },
    {
      "cell_type": "code",
      "source": [
        "consumer_key= ''\n",
        "consumer_secret= ''\n",
        "access_token= ''\n",
        "access_token_secret= ''"
      ],
      "metadata": {
        "id": "5j7SizB3P7O6"
      },
      "execution_count": 2,
      "outputs": []
    },
    {
      "cell_type": "code",
      "source": [
        "auth = tw.OAuthHandler(consumer_key, consumer_secret)\n",
        "auth.set_access_token(access_token, access_token_secret)\n",
        "api = tw.API(auth, wait_on_rate_limit=True)"
      ],
      "metadata": {
        "id": "Ww8t0fiBQtVp"
      },
      "execution_count": 3,
      "outputs": []
    },
    {
      "cell_type": "code",
      "source": [
        "search_words = \"iron man OR #mcu OR (iron man) OR avengers OR (marvel studios) OR spiderman OR thor OR (captain america) OR hulk OR thanos OR (guardians of the galaxy) OR (shang chi) OR (black widow) OR hawkeye OR (ant man) OR (winter soldier) OR (civil war)\""
      ],
      "metadata": {
        "id": "GgNTT9M6RC3C"
      },
      "execution_count": 4,
      "outputs": []
    },
    {
      "cell_type": "code",
      "source": [
        "csvFile = open('tweets2021.csv', 'a')\n",
        "csvWriter = csv.writer(csvFile)"
      ],
      "metadata": {
        "id": "uEX5MEEQs5TS"
      },
      "execution_count": 5,
      "outputs": []
    },
    {
      "cell_type": "code",
      "source": [
        "tweets = tw.Cursor(api.search,\n",
        "                       q=search_words,\n",
        "                       lang=\"en\").items(20000)\n",
        "                       \n",
        "\n",
        "for tweet in tweets:\n",
        "  csvWriter.writerow([tweet.created_at, tweet.text])\n",
        "\n",
        "csvFile.close()\n"
      ],
      "metadata": {
        "id": "kbMUytQWRGY2"
      },
      "execution_count": 6,
      "outputs": []
    }
  ]
}